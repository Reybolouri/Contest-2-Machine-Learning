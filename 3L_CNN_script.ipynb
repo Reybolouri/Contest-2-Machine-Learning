{
  "cells": [
    {
      "cell_type": "code",
      "execution_count": 7,
      "metadata": {
        "vscode": {
          "languageId": "python"
        },
        "id": "fyoClVK_sUYN",
        "outputId": "747d41d1-eb67-4cf5-ecfb-088a3922b46e",
        "colab": {
          "base_uri": "https://localhost:8080/"
        }
      },
      "outputs": [
        {
          "output_type": "stream",
          "name": "stdout",
          "text": [
            "fatal: destination path 'Contest-2-Machine-Learning' already exists and is not an empty directory.\n",
            "[Errno 2] No such file or directory: 'your-repo'\n",
            "/content\n"
          ]
        }
      ],
      "source": [
        "\n",
        "# clone your GitHub repo\n",
        "!git clone https://github.com/Reybolouri/Contest-2-Machine-Learning.git\n",
        "%cd your-repo\n"
      ]
    },
    {
      "cell_type": "markdown",
      "metadata": {
        "id": "i6dPcD4NsUYO"
      },
      "source": [
        "First I tried a simple 2 layer CNN model, consisting of two convolutional blocks (3→32, 32→64) each with ReLU and max pooling, flattenning the resulting 64×8×8 feature map into a 4096 dimensional vector, and applies a single dropout layer in the fully connected head. Its design makes it fast and lightweight, but without batch normalization or extra layers it can’t learn as deepand well regularized features as a deeper network would.So I moved on to a 3layer CNN. This three layer CNN adds a third convolutional block (with 3→32→64→128 filters), each including batch normalization, activation, pooling, and dropout, to progressively learn richer image features down to a 128×4×4 map. It then flattens these 2048 features into a 128 unit dense layer (with dropout) before the final three way classification."
      ]
    },
    {
      "cell_type": "code",
      "execution_count": 9,
      "metadata": {
        "vscode": {
          "languageId": "python"
        },
        "id": "j3kgmwPusUYQ",
        "outputId": "c4e9f40a-fcd9-449b-b48b-da27120640bb",
        "colab": {
          "base_uri": "https://localhost:8080/"
        }
      },
      "outputs": [
        {
          "output_type": "stream",
          "name": "stdout",
          "text": [
            "Train: (1200, 3074) Test: (1200, 3073)\n"
          ]
        }
      ],
      "source": [
        "#### 3 layer CNN:\n",
        "import os\n",
        "import pandas as pd\n",
        "import numpy as np\n",
        "\n",
        "import torch\n",
        "from torch import nn, optim\n",
        "from torch.utils.data import Dataset, DataLoader\n",
        "from sklearn.model_selection import train_test_split\n",
        "from torchvision import transforms\n",
        "\n",
        "\n",
        "#Read training and test ssets\n",
        "DATA_DIR = \"data\"\n",
        "train_df = pd.read_csv(os.path.join(DATA_DIR, \"/content/Contest-2-Machine-Learning/data/train.csv\"))\n",
        "test_df  = pd.read_csv(os.path.join(DATA_DIR, \"/content/Contest-2-Machine-Learning/data/test.csv\"))\n",
        "print(\"Train:\", train_df.shape, \"Test:\", test_df.shape)\n",
        "\n",
        "# Check for missing values\n",
        "assert train_df.isna().sum().sum() == 0, \"Missing in train!\"\n",
        "assert test_df .isna().sum().sum() == 0, \"Missing in test!\"\n",
        "\n",
        "\n",
        "# Extract ids & labels\n",
        "train_ids    = train_df.pop(\"id\").values\n",
        "## zero-based for PyTorch\n",
        "train_labels = (train_df.pop(\"y\").values - 1).astype(np.int64)\n",
        "test_ids     = test_df.pop(\"id\").values\n",
        "\n",
        "# Convert to float32 and reshape to (N,3,32,32)\n",
        "\n",
        "X_train = train_df.values.astype(np.float32).reshape(-1, 3, 32, 32)\n",
        "X_test  = test_df.values.astype(np.float32).reshape(-1, 3, 32, 32)"
      ]
    },
    {
      "cell_type": "code",
      "execution_count": 10,
      "metadata": {
        "vscode": {
          "languageId": "python"
        },
        "id": "9GCR318CsUYS",
        "outputId": "aeca5e08-9fa5-42bf-f918-5e932a184e2e",
        "colab": {
          "base_uri": "https://localhost:8080/"
        }
      },
      "outputs": [
        {
          "output_type": "stream",
          "name": "stdout",
          "text": [
            "Epoch 01 | train_acc: 0.708 | val_acc: 0.338\n",
            "Epoch 02 | train_acc: 0.907 | val_acc: 0.767\n",
            "Epoch 03 | train_acc: 0.925 | val_acc: 0.883\n",
            "Epoch 04 | train_acc: 0.932 | val_acc: 0.917\n",
            "Epoch 05 | train_acc: 0.931 | val_acc: 0.942\n",
            "Epoch 06 | train_acc: 0.958 | val_acc: 0.950\n",
            "Epoch 07 | train_acc: 0.955 | val_acc: 0.929\n",
            "Epoch 08 | train_acc: 0.958 | val_acc: 0.946\n",
            "Epoch 09 | train_acc: 0.968 | val_acc: 0.958\n",
            "Epoch 10 | train_acc: 0.968 | val_acc: 0.879\n",
            "Epoch 11 | train_acc: 0.952 | val_acc: 0.904\n",
            "Epoch 12 | train_acc: 0.963 | val_acc: 0.946\n",
            "Epoch 13 | train_acc: 0.959 | val_acc: 0.963\n",
            "Epoch 14 | train_acc: 0.970 | val_acc: 0.967\n",
            "Epoch 15 | train_acc: 0.972 | val_acc: 0.892\n",
            "Epoch 16 | train_acc: 0.978 | val_acc: 0.975\n",
            "Epoch 17 | train_acc: 0.977 | val_acc: 0.967\n",
            "Epoch 18 | train_acc: 0.978 | val_acc: 0.825\n",
            "Epoch 19 | train_acc: 0.958 | val_acc: 0.979\n",
            "Epoch 20 | train_acc: 0.972 | val_acc: 0.971\n",
            "Epoch 21 | train_acc: 0.975 | val_acc: 0.967\n",
            "Epoch 22 | train_acc: 0.991 | val_acc: 0.950\n",
            "Epoch 23 | train_acc: 0.979 | val_acc: 0.954\n",
            "Epoch 24 | train_acc: 0.988 | val_acc: 0.912\n",
            "Epoch 25 | train_acc: 0.963 | val_acc: 0.967\n",
            "Epoch 26 | train_acc: 0.988 | val_acc: 0.917\n",
            "Epoch 27 | train_acc: 0.989 | val_acc: 0.917\n",
            "Epoch 28 | train_acc: 0.977 | val_acc: 0.912\n",
            "Epoch 29 | train_acc: 0.982 | val_acc: 0.958\n",
            "Epoch 30 | train_acc: 0.979 | val_acc: 0.958\n",
            "\n",
            "Best validation accuracy: 97.92%\n",
            "Reloaded best model val_acc: 97.92%\n",
            "Saved 3L_cnn.csv with 1200 rows.\n"
          ]
        }
      ],
      "source": [
        "\n",
        "# DataLoader\n",
        "class FarmDataset(Dataset):\n",
        "    def __init__(self, images, labels=None):\n",
        "        self.images = torch.from_numpy(images)\n",
        "        self.labels = None if labels is None else torch.from_numpy(labels)\n",
        "    def __len__(self):\n",
        "        return len(self.images)\n",
        "    def __getitem__(self, idx):\n",
        "        x = self.images[idx]\n",
        "        if self.labels is None:\n",
        "            return x\n",
        "        y = self.labels[idx]\n",
        "        return x, y\n",
        "\n",
        "# Train/validation split\n",
        "X_tr, X_val, y_tr, y_val = train_test_split(\n",
        "    X_train, train_labels,\n",
        "    test_size=0.2,\n",
        "    stratify=train_labels,\n",
        "    random_state=42\n",
        ")\n",
        "\n",
        "batch_size   = 64\n",
        "train_loader = DataLoader(FarmDataset(X_tr,  y_tr), batch_size, shuffle=True)\n",
        "val_loader   = DataLoader(FarmDataset(X_val, y_val), batch_size)\n",
        "test_loader  = DataLoader(FarmDataset(X_test),    batch_size)\n",
        "\n",
        "# Define the 3-layer CNN\n",
        "class ThreeLayerCNN(nn.Module):\n",
        "    def __init__(self, num_classes=3):\n",
        "        super().__init__()\n",
        "        self.features = nn.Sequential(\n",
        "            # Block 1: 3→32\n",
        "            nn.Conv2d(3, 32, kernel_size=3, padding=1),\n",
        "            nn.BatchNorm2d(32),\n",
        "            nn.ReLU(inplace=True),\n",
        "            nn.MaxPool2d(2),            ### 32×32×32 → 32×16×16\n",
        "            nn.Dropout(0.25),\n",
        "\n",
        "            # Block 2: 32→64\n",
        "            nn.Conv2d(32, 64, 3, padding=1),\n",
        "            nn.BatchNorm2d(64),\n",
        "            nn.ReLU(inplace=True),\n",
        "            nn.MaxPool2d(2),              ##### 64×16×16 → 64×8×8\n",
        "            nn.Dropout(0.25),\n",
        "\n",
        "            # Block 3: 64→128\n",
        "            nn.Conv2d(64, 128, 3, padding=1),\n",
        "            nn.BatchNorm2d(128),\n",
        "            nn.ReLU(inplace=True),\n",
        "            nn.MaxPool2d(2),            #### 128×8×8 → 128×4×4\n",
        "            nn.Dropout(0.25),\n",
        "        )\n",
        "        self.classifier = nn.Sequential(\n",
        "            nn.Flatten(),                  ####→ 128*4*4 = 2048\n",
        "            nn.Linear(2048, 128),\n",
        "            nn.ReLU(inplace=True),\n",
        "            nn.Linear(128, num_classes),\n",
        "        )\n",
        "\n",
        "    def forward(self, x):\n",
        "        x = self.features(x)\n",
        "        x = self.classifier(x)\n",
        "        return x\n",
        "\n",
        "# training setup\n",
        "device    = torch.device(\"cuda\" if torch.cuda.is_available() else \"cpu\")\n",
        "model     = ThreeLayerCNN().to(device)\n",
        "criterion = nn.CrossEntropyLoss()\n",
        "optimizer = optim.Adam(model.parameters(), lr=1e-3)\n",
        "\n",
        "# Training and evaluation functions\n",
        "def train_epoch(loader):\n",
        "    model.train()\n",
        "    total_loss = total_correct = 0\n",
        "    for xb, yb in loader:\n",
        "        xb, yb = xb.to(device), yb.to(device)\n",
        "        preds  = model(xb)\n",
        "        loss   = criterion(preds, yb)\n",
        "        optimizer.zero_grad()\n",
        "        loss.backward()\n",
        "        optimizer.step()\n",
        "        total_loss   += loss.item() * xb.size(0)\n",
        "        total_correct+= (preds.argmax(1) == yb).sum().item()\n",
        "    return total_loss/len(loader.dataset), total_correct/len(loader.dataset)\n",
        "\n",
        "def eval_epoch(loader):\n",
        "    model.eval()\n",
        "    total_loss = total_correct = 0\n",
        "    with torch.no_grad():\n",
        "        for xb, yb in loader:\n",
        "            xb, yb = xb.to(device), yb.to(device)\n",
        "            preds  = model(xb)\n",
        "            total_loss   += criterion(preds, yb).item() * xb.size(0)\n",
        "            total_correct+= (preds.argmax(1) == yb).sum().item()\n",
        "    return total_loss/len(loader.dataset), total_correct/len(loader.dataset)\n",
        "\n",
        "#  Train for 30 epochs, save  the best model\n",
        "best_val_acc = 0.0\n",
        "for epoch in range(1, 31):\n",
        "    tr_loss, tr_acc = train_epoch(train_loader)\n",
        "    vl_loss, vl_acc = eval_epoch(val_loader)\n",
        "    if vl_acc > best_val_acc:\n",
        "        best_val_acc = vl_acc\n",
        "        torch.save(model.state_dict(), \"best_three_layer_cnn.pth\")\n",
        "    print(f\"Epoch {epoch:02d} | train_acc: {tr_acc:.3f} | val_acc: {vl_acc:.3f}\")\n",
        "\n",
        "print(f\"\\nBest validation accuracy: {best_val_acc*100:.2f}%\")\n",
        "\n",
        "# Reload best modeln and final validation\n",
        "model.load_state_dict(torch.load(\"best_three_layer_cnn.pth\"))\n",
        "_, final_acc = eval_epoch(val_loader)\n",
        "print(f\"Reloaded best model val_acc: {final_acc*100:.2f}%\")\n",
        "\n",
        "# generate CSV\n",
        "model.eval()\n",
        "all_preds = []\n",
        "with torch.no_grad():\n",
        "    for xb in test_loader:\n",
        "        xb    = xb.to(device)\n",
        "        preds = model(xb).argmax(1).cpu().numpy() + 1\n",
        "        all_preds.append(preds)\n",
        "all_preds = np.concatenate(all_preds)\n",
        "\n",
        "submission = pd.DataFrame({\n",
        "    \"id\": test_ids,\n",
        "    \"y\":  all_preds\n",
        "})\n",
        "submission.to_csv(\"3L_cnn.csv\", index=False)\n",
        "print(\"Saved 3L_cnn.csv with\", len(submission), \"rows.\")\n"
      ]
    }
  ],
  "metadata": {
    "language_info": {
      "name": "python"
    },
    "colab": {
      "provenance": []
    },
    "kernelspec": {
      "name": "python3",
      "display_name": "Python 3"
    }
  },
  "nbformat": 4,
  "nbformat_minor": 0
}