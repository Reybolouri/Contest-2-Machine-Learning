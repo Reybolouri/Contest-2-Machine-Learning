{
  "nbformat": 4,
  "nbformat_minor": 0,
  "metadata": {
    "colab": {
      "provenance": [],
      "include_colab_link": true
    },
    "kernelspec": {
      "name": "python3",
      "display_name": "Python 3"
    },
    "language_info": {
      "name": "python"
    }
  },
  "cells": [
    {
      "cell_type": "markdown",
      "metadata": {
        "id": "view-in-github",
        "colab_type": "text"
      },
      "source": [
        "<a href=\"https://colab.research.google.com/github/Reybolouri/Contest-2-Machine-Learning/blob/main/contest_2.ipynb\" target=\"_parent\"><img src=\"https://colab.research.google.com/assets/colab-badge.svg\" alt=\"Open In Colab\"/></a>"
      ]
    },
    {
      "cell_type": "code",
      "execution_count": 1,
      "metadata": {
        "id": "zWkjH5_hgo7V"
      },
      "outputs": [],
      "source": [
        "!pip install --quiet tensorflow xgboost\n"
      ]
    },
    {
      "cell_type": "code",
      "source": [
        "!git clone https://github.com/Reybolouri/Contest-2-Machine-Learning.git\n",
        "%cd Contest-2-Machine-Learning/data"
      ],
      "metadata": {
        "colab": {
          "base_uri": "https://localhost:8080/"
        },
        "id": "vCw-LPCOiAtz",
        "outputId": "01cba5f3-f6ff-4521-ec33-8e258f159ef5"
      },
      "execution_count": 2,
      "outputs": [
        {
          "output_type": "stream",
          "name": "stdout",
          "text": [
            "Cloning into 'Contest-2-Machine-Learning'...\n",
            "remote: Enumerating objects: 14, done.\u001b[K\n",
            "remote: Counting objects: 100% (14/14), done.\u001b[K\n",
            "remote: Compressing objects: 100% (9/9), done.\u001b[K\n",
            "remote: Total 14 (delta 3), reused 8 (delta 2), pack-reused 0 (from 0)\u001b[K\n",
            "Receiving objects: 100% (14/14), 19.30 MiB | 14.52 MiB/s, done.\n",
            "Resolving deltas: 100% (3/3), done.\n",
            "Updating files: 100% (5/5), done.\n",
            "/content/Contest-2-Machine-Learning/data\n"
          ]
        }
      ]
    }
  ]
}