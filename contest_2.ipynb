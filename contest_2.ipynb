{
  "nbformat": 4,
  "nbformat_minor": 0,
  "metadata": {
    "colab": {
      "provenance": [],
      "include_colab_link": true
    },
    "kernelspec": {
      "name": "python3",
      "display_name": "Python 3"
    },
    "language_info": {
      "name": "python"
    }
  },
  "cells": [
    {
      "cell_type": "markdown",
      "metadata": {
        "id": "view-in-github",
        "colab_type": "text"
      },
      "source": [
        "<a href=\"https://colab.research.google.com/github/Reybolouri/Contest-2-Machine-Learning/blob/main/contest_2.ipynb\" target=\"_parent\"><img src=\"https://colab.research.google.com/assets/colab-badge.svg\" alt=\"Open In Colab\"/></a>"
      ]
    },
    {
      "cell_type": "code",
      "execution_count": null,
      "metadata": {
        "id": "zWkjH5_hgo7V"
      },
      "outputs": [],
      "source": [
        "!pip install --quiet tensorflow xgboost\n"
      ]
    },
    {
      "cell_type": "code",
      "source": [
        "!git clone https://github.com/Reybolouri/Contest-2-Machine-Learning.git\n",
        "%cd Contest-2-Machine-Learning/data"
      ],
      "metadata": {
        "colab": {
          "base_uri": "https://localhost:8080/"
        },
        "id": "vCw-LPCOiAtz",
        "outputId": "01cba5f3-f6ff-4521-ec33-8e258f159ef5"
      },
      "execution_count": null,
      "outputs": [
        {
          "output_type": "stream",
          "name": "stdout",
          "text": [
            "Cloning into 'Contest-2-Machine-Learning'...\n",
            "remote: Enumerating objects: 14, done.\u001b[K\n",
            "remote: Counting objects: 100% (14/14), done.\u001b[K\n",
            "remote: Compressing objects: 100% (9/9), done.\u001b[K\n",
            "remote: Total 14 (delta 3), reused 8 (delta 2), pack-reused 0 (from 0)\u001b[K\n",
            "Receiving objects: 100% (14/14), 19.30 MiB | 14.52 MiB/s, done.\n",
            "Resolving deltas: 100% (3/3), done.\n",
            "Updating files: 100% (5/5), done.\n",
            "/content/Contest-2-Machine-Learning/data\n"
          ]
        }
      ]
    },
    {
      "cell_type": "code",
      "source": [
        "import pandas as pd\n",
        "import numpy as np\n",
        "\n",
        "# 2.1 Read the CSVs\n",
        "train = pd.read_csv('train.csv')\n",
        "test  = pd.read_csv('test.csv')\n",
        "\n",
        "print(\"Train shape:\", train.shape)\n",
        "print(\"Test shape: \",  test.shape)\n",
        "\n",
        "# 2.2 Check class balance\n",
        "print(train['y'].value_counts())\n",
        "\n",
        "# 2.3 Peek at pixel columns\n",
        "train.columns[:10]\n"
      ],
      "metadata": {
        "colab": {
          "base_uri": "https://localhost:8080/"
        },
        "id": "8DrmepGHibZu",
        "outputId": "47b1f4bb-6e89-4430-8bd7-7f9695f985e4"
      },
      "execution_count": null,
      "outputs": [
        {
          "output_type": "stream",
          "name": "stdout",
          "text": [
            "Train shape: (1200, 3074)\n",
            "Test shape:  (1200, 3073)\n",
            "y\n",
            "2    407\n",
            "1    402\n",
            "3    391\n",
            "Name: count, dtype: int64\n"
          ]
        },
        {
          "output_type": "execute_result",
          "data": {
            "text/plain": [
              "Index(['id', 'y', 'r0101', 'r0201', 'r0301', 'r0401', 'r0501', 'r0601',\n",
              "       'r0701', 'r0801'],\n",
              "      dtype='object')"
            ]
          },
          "metadata": {},
          "execution_count": 3
        }
      ]
    },
    {
      "cell_type": "code",
      "source": [
        "#test a few samples:\n",
        "import matplotlib.pyplot as plt\n",
        "\n",
        "def show_patch(row, ax):\n",
        "    pix = row.iloc[2:].values.reshape(32,32,3)  # drop id,y\n",
        "    ax.imshow(pix)\n",
        "    ax.axis('off')\n",
        "\n",
        "fig, axes = plt.subplots(1,3, figsize=(9,3))\n",
        "for i, idx in enumerate([0, 200, 400]):\n",
        "    show_patch(train.iloc[idx], axes[i])\n",
        "plt.show()\n"
      ],
      "metadata": {
        "colab": {
          "base_uri": "https://localhost:8080/",
          "height": 242
        },
        "id": "O-QctMLPi3-_",
        "outputId": "6378ce00-94b5-4327-9121-b7433e37da1f"
      },
      "execution_count": null,
      "outputs": [
        {
          "output_type": "display_data",
          "data": {
            "text/plain": [
              "<Figure size 900x300 with 3 Axes>"
            ],
            "image/png": "[encoded data removed]"
          },
          "metadata": {}
        }
      ]
    },
    {
      "cell_type": "code",
      "source": [
        "#Preprocessing & Train/Val Split\n",
        "from sklearn.model_selection import train_test_split\n",
        "\n",
        "# 4.1 Features & labels\n",
        "X = train.drop(['id','y'], axis=1).values\n",
        "y = train['y'].values - 1   # shift to 0,1,2\n",
        "\n",
        "# 4.2 Stratified split\n",
        "X_train, X_val, y_train, y_val = train_test_split(\n",
        "    X, y, stratify=y, test_size=0.2, random_state=42)\n",
        "\n",
        "# 4.3 Reshape for CNN\n",
        "X_train_cnn = X_train.reshape(-1,32,32,3)\n",
        "X_val_cnn   = X_val.reshape(-1,32,32,3)\n",
        "\n",
        "print(\"CNN input shape:\", X_train_cnn.shape)\n"
      ],
      "metadata": {
        "colab": {
          "base_uri": "https://localhost:8080/"
        },
        "id": "r5MYel8gi7PE",
        "outputId": "094b683b-f843-4e05-85c6-39d526c46257"
      },
      "execution_count": null,
      "outputs": [
        {
          "output_type": "stream",
          "name": "stdout",
          "text": [
            "CNN input shape: (960, 32, 32, 3)\n"
          ]
        }
      ]
    },
    {
      "cell_type": "code",
      "source": [
        "###CNN:\n",
        "\n",
        "import tensorflow as tf\n",
        "from tensorflow.keras import layers, models, callbacks\n",
        "\n",
        "# 5.1 One-hot encode labels\n",
        "y_train_cat = tf.keras.utils.to_categorical(y_train, 3)\n",
        "y_val_cat   = tf.keras.utils.to_categorical(y_val,   3)\n",
        "\n",
        "# 5.2 Build model\n",
        "def build_cnn():\n",
        "    inp = layers.Input((32,32,3))\n",
        "    x = layers.Conv2D(32,3,activation='relu',padding='same')(inp)\n",
        "    x = layers.MaxPooling2D()(x)\n",
        "    x = layers.Conv2D(64,3,activation='relu',padding='same')(x)\n",
        "    x = layers.MaxPooling2D()(x)\n",
        "    x = layers.Flatten()(x)\n",
        "    x = layers.Dense(128,activation='relu')(x)\n",
        "    x = layers.Dropout(0.5)(x)\n",
        "    out = layers.Dense(3,activation='softmax')(x)\n",
        "    return models.Model(inp,out)\n",
        "\n",
        "model = build_cnn()\n",
        "model.compile(optimizer='adam',\n",
        "              loss='categorical_crossentropy',\n",
        "              metrics=['accuracy'])\n",
        "model.summary()\n",
        "\n",
        "# 5.3 Train with EarlyStopping\n",
        "es = callbacks.EarlyStopping(patience=5, restore_best_weights=True)\n",
        "hist = model.fit(\n",
        "    X_train_cnn, y_train_cat,\n",
        "    validation_data=(X_val_cnn, y_val_cat),\n",
        "    epochs=50, batch_size=32,\n",
        "    callbacks=[es]\n",
        ")\n"
      ],
      "metadata": {
        "colab": {
          "base_uri": "https://localhost:8080/",
          "height": 1000
        },
        "id": "3V88venkjFSh",
        "outputId": "80771f95-7bff-42c3-bc98-9a6dd91de850"
      },
      "execution_count": null,
      "outputs": [
        {
          "output_type": "display_data",
          "data": {
            "text/plain": [
              "\u001b[1mModel: \"functional\"\u001b[0m\n"
            ],
            "text/html": [
              "<pre style=\"white-space:pre;overflow-x:auto;line-height:normal;font-family:Menlo,'DejaVu Sans Mono',consolas,'Courier New',monospace\"><span style=\"font-weight: bold\">Model: \"functional\"</span>\n",
              "</pre>\n"
            ]
          },
          "metadata": {}
        },
        {
          "output_type": "display_data",
          "data": {
            "text/plain": [
              "┏━━━━━━━━━━━━━━━━━━━━━━━━━━━━━━━━━┳━━━━━━━━━━━━━━━━━━━━━━━━┳━━━━━━━━━━━━━━━┓\n",
              "┃\u001b[1m \u001b[0m\u001b[1mLayer (type)                   \u001b[0m\u001b[1m \u001b[0m┃\u001b[1m \u001b[0m\u001b[1mOutput Shape          \u001b[0m\u001b[1m \u001b[0m┃\u001b[1m \u001b[0m\u001b[1m      Param #\u001b[0m\u001b[1m \u001b[0m┃\n",
              "┡━━━━━━━━━━━━━━━━━━━━━━━━━━━━━━━━━╇━━━━━━━━━━━━━━━━━━━━━━━━╇━━━━━━━━━━━━━━━┩\n",
              "│ input_layer (\u001b[38;5;33mInputLayer\u001b[0m)        │ (\u001b[38;5;45mNone\u001b[0m, \u001b[38;5;34m32\u001b[0m, \u001b[38;5;34m32\u001b[0m, \u001b[38;5;34m3\u001b[0m)      │             \u001b[38;5;34m0\u001b[0m │\n",
              "├─────────────────────────────────┼────────────────────────┼───────────────┤\n",
              "│ conv2d (\u001b[38;5;33mConv2D\u001b[0m)                 │ (\u001b[38;5;45mNone\u001b[0m, \u001b[38;5;34m32\u001b[0m, \u001b[38;5;34m32\u001b[0m, \u001b[38;5;34m32\u001b[0m)     │           \u001b[38;5;34m896\u001b[0m │\n",
              "├─────────────────────────────────┼────────────────────────┼───────────────┤\n",
              "│ max_pooling2d (\u001b[38;5;33mMaxPooling2D\u001b[0m)    │ (\u001b[38;5;45mNone\u001b[0m, \u001b[38;5;34m16\u001b[0m, \u001b[38;5;34m16\u001b[0m, \u001b[38;5;34m32\u001b[0m)     │             \u001b[38;5;34m0\u001b[0m │\n",
              "├─────────────────────────────────┼────────────────────────┼───────────────┤\n",
              "│ conv2d_1 (\u001b[38;5;33mConv2D\u001b[0m)               │ (\u001b[38;5;45mNone\u001b[0m, \u001b[38;5;34m16\u001b[0m, \u001b[38;5;34m16\u001b[0m, \u001b[38;5;34m64\u001b[0m)     │        \u001b[38;5;34m18,496\u001b[0m │\n",
              "├─────────────────────────────────┼────────────────────────┼───────────────┤\n",
              "│ max_pooling2d_1 (\u001b[38;5;33mMaxPooling2D\u001b[0m)  │ (\u001b[38;5;45mNone\u001b[0m, \u001b[38;5;34m8\u001b[0m, \u001b[38;5;34m8\u001b[0m, \u001b[38;5;34m64\u001b[0m)       │             \u001b[38;5;34m0\u001b[0m │\n",
              "├─────────────────────────────────┼────────────────────────┼───────────────┤\n",
              "│ flatten (\u001b[38;5;33mFlatten\u001b[0m)               │ (\u001b[38;5;45mNone\u001b[0m, \u001b[38;5;34m4096\u001b[0m)           │             \u001b[38;5;34m0\u001b[0m │\n",
              "├─────────────────────────────────┼────────────────────────┼───────────────┤\n",
              "│ dense (\u001b[38;5;33mDense\u001b[0m)                   │ (\u001b[38;5;45mNone\u001b[0m, \u001b[38;5;34m128\u001b[0m)            │       \u001b[38;5;34m524,416\u001b[0m │\n",
              "├─────────────────────────────────┼────────────────────────┼───────────────┤\n",
              "│ dropout (\u001b[38;5;33mDropout\u001b[0m)               │ (\u001b[38;5;45mNone\u001b[0m, \u001b[38;5;34m128\u001b[0m)            │             \u001b[38;5;34m0\u001b[0m │\n",
              "├─────────────────────────────────┼────────────────────────┼───────────────┤\n",
              "│ dense_1 (\u001b[38;5;33mDense\u001b[0m)                 │ (\u001b[38;5;45mNone\u001b[0m, \u001b[38;5;34m3\u001b[0m)              │           \u001b[38;5;34m387\u001b[0m │\n",
              "└─────────────────────────────────┴────────────────────────┴───────────────┘\n"
            ],
            "text/html": [
              "<pre style=\"white-space:pre;overflow-x:auto;line-height:normal;font-family:Menlo,'DejaVu Sans Mono',consolas,'Courier New',monospace\">┏━━━━━━━━━━━━━━━━━━━━━━━━━━━━━━━━━┳━━━━━━━━━━━━━━━━━━━━━━━━┳━━━━━━━━━━━━━━━┓\n",
              "┃<span style=\"font-weight: bold\"> Layer (type)                    </span>┃<span style=\"font-weight: bold\"> Output Shape           </span>┃<span style=\"font-weight: bold\">       Param # </span>┃\n",
              "┡━━━━━━━━━━━━━━━━━━━━━━━━━━━━━━━━━╇━━━━━━━━━━━━━━━━━━━━━━━━╇━━━━━━━━━━━━━━━┩\n",
              "│ input_layer (<span style=\"color: #0087ff; text-decoration-color: #0087ff\">InputLayer</span>)        │ (<span style=\"color: #00d7ff; text-decoration-color: #00d7ff\">None</span>, <span style=\"color: #00af00; text-decoration-color: #00af00\">32</span>, <span style=\"color: #00af00; text-decoration-color: #00af00\">32</span>, <span style=\"color: #00af00; text-decoration-color: #00af00\">3</span>)      │             <span style=\"color: #00af00; text-decoration-color: #00af00\">0</span> │\n",
              "├─────────────────────────────────┼────────────────────────┼───────────────┤\n",
              "│ conv2d (<span style=\"color: #0087ff; text-decoration-color: #0087ff\">Conv2D</span>)                 │ (<span style=\"color: #00d7ff; text-decoration-color: #00d7ff\">None</span>, <span style=\"color: #00af00; text-decoration-color: #00af00\">32</span>, <span style=\"color: #00af00; text-decoration-color: #00af00\">32</span>, <span style=\"color: #00af00; text-decoration-color: #00af00\">32</span>)     │           <span style=\"color: #00af00; text-decoration-color: #00af00\">896</span> │\n",
              "├─────────────────────────────────┼────────────────────────┼───────────────┤\n",
              "│ max_pooling2d (<span style=\"color: #0087ff; text-decoration-color: #0087ff\">MaxPooling2D</span>)    │ (<span style=\"color: #00d7ff; text-decoration-color: #00d7ff\">None</span>, <span style=\"color: #00af00; text-decoration-color: #00af00\">16</span>, <span style=\"color: #00af00; text-decoration-color: #00af00\">16</span>, <span style=\"color: #00af00; text-decoration-color: #00af00\">32</span>)     │             <span style=\"color: #00af00; text-decoration-color: #00af00\">0</span> │\n",
              "├─────────────────────────────────┼────────────────────────┼───────────────┤\n",
              "│ conv2d_1 (<span style=\"color: #0087ff; text-decoration-color: #0087ff\">Conv2D</span>)               │ (<span style=\"color: #00d7ff; text-decoration-color: #00d7ff\">None</span>, <span style=\"color: #00af00; text-decoration-color: #00af00\">16</span>, <span style=\"color: #00af00; text-decoration-color: #00af00\">16</span>, <span style=\"color: #00af00; text-decoration-color: #00af00\">64</span>)     │        <span style=\"color: #00af00; text-decoration-color: #00af00\">18,496</span> │\n",
              "├─────────────────────────────────┼────────────────────────┼───────────────┤\n",
              "│ max_pooling2d_1 (<span style=\"color: #0087ff; text-decoration-color: #0087ff\">MaxPooling2D</span>)  │ (<span style=\"color: #00d7ff; text-decoration-color: #00d7ff\">None</span>, <span style=\"color: #00af00; text-decoration-color: #00af00\">8</span>, <span style=\"color: #00af00; text-decoration-color: #00af00\">8</span>, <span style=\"color: #00af00; text-decoration-color: #00af00\">64</span>)       │             <span style=\"color: #00af00; text-decoration-color: #00af00\">0</span> │\n",
              "├─────────────────────────────────┼────────────────────────┼───────────────┤\n",
              "│ flatten (<span style=\"color: #0087ff; text-decoration-color: #0087ff\">Flatten</span>)               │ (<span style=\"color: #00d7ff; text-decoration-color: #00d7ff\">None</span>, <span style=\"color: #00af00; text-decoration-color: #00af00\">4096</span>)           │             <span style=\"color: #00af00; text-decoration-color: #00af00\">0</span> │\n",
              "├─────────────────────────────────┼────────────────────────┼───────────────┤\n",
              "│ dense (<span style=\"color: #0087ff; text-decoration-color: #0087ff\">Dense</span>)                   │ (<span style=\"color: #00d7ff; text-decoration-color: #00d7ff\">None</span>, <span style=\"color: #00af00; text-decoration-color: #00af00\">128</span>)            │       <span style=\"color: #00af00; text-decoration-color: #00af00\">524,416</span> │\n",
              "├─────────────────────────────────┼────────────────────────┼───────────────┤\n",
              "│ dropout (<span style=\"color: #0087ff; text-decoration-color: #0087ff\">Dropout</span>)               │ (<span style=\"color: #00d7ff; text-decoration-color: #00d7ff\">None</span>, <span style=\"color: #00af00; text-decoration-color: #00af00\">128</span>)            │             <span style=\"color: #00af00; text-decoration-color: #00af00\">0</span> │\n",
              "├─────────────────────────────────┼────────────────────────┼───────────────┤\n",
              "│ dense_1 (<span style=\"color: #0087ff; text-decoration-color: #0087ff\">Dense</span>)                 │ (<span style=\"color: #00d7ff; text-decoration-color: #00d7ff\">None</span>, <span style=\"color: #00af00; text-decoration-color: #00af00\">3</span>)              │           <span style=\"color: #00af00; text-decoration-color: #00af00\">387</span> │\n",
              "└─────────────────────────────────┴────────────────────────┴───────────────┘\n",
              "</pre>\n"
            ]
          },
          "metadata": {}
        },
        {
          "output_type": "display_data",
          "data": {
            "text/plain": [
              "\u001b[1m Total params: \u001b[0m\u001b[38;5;34m544,195\u001b[0m (2.08 MB)\n"
            ],
            "text/html": [
              "<pre style=\"white-space:pre;overflow-x:auto;line-height:normal;font-family:Menlo,'DejaVu Sans Mono',consolas,'Courier New',monospace\"><span style=\"font-weight: bold\"> Total params: </span><span style=\"color: #00af00; text-decoration-color: #00af00\">544,195</span> (2.08 MB)\n",
              "</pre>\n"
            ]
          },
          "metadata": {}
        },
        {
          "output_type": "display_data",
          "data": {
            "text/plain": [
              "\u001b[1m Trainable params: \u001b[0m\u001b[38;5;34m544,195\u001b[0m (2.08 MB)\n"
            ],
            "text/html": [
              "<pre style=\"white-space:pre;overflow-x:auto;line-height:normal;font-family:Menlo,'DejaVu Sans Mono',consolas,'Courier New',monospace\"><span style=\"font-weight: bold\"> Trainable params: </span><span style=\"color: #00af00; text-decoration-color: #00af00\">544,195</span> (2.08 MB)\n",
              "</pre>\n"
            ]
          },
          "metadata": {}
        },
        {
          "output_type": "display_data",
          "data": {
            "text/plain": [
              "\u001b[1m Non-trainable params: \u001b[0m\u001b[38;5;34m0\u001b[0m (0.00 B)\n"
            ],
            "text/html": [
              "<pre style=\"white-space:pre;overflow-x:auto;line-height:normal;font-family:Menlo,'DejaVu Sans Mono',consolas,'Courier New',monospace\"><span style=\"font-weight: bold\"> Non-trainable params: </span><span style=\"color: #00af00; text-decoration-color: #00af00\">0</span> (0.00 B)\n",
              "</pre>\n"
            ]
          },
          "metadata": {}
        },
        {
          "output_type": "stream",
          "name": "stdout",
          "text": [
            "Epoch 1/50\n",
            "\u001b[1m30/30\u001b[0m \u001b[32m━━━━━━━━━━━━━━━━━━━━\u001b[0m\u001b[37m\u001b[0m \u001b[1m4s\u001b[0m 68ms/step - accuracy: 0.5552 - loss: 0.9112 - val_accuracy: 0.7458 - val_loss: 0.5499\n",
            "Epoch 2/50\n",
            "\u001b[1m30/30\u001b[0m \u001b[32m━━━━━━━━━━━━━━━━━━━━\u001b[0m\u001b[37m\u001b[0m \u001b[1m2s\u001b[0m 57ms/step - accuracy: 0.7524 - loss: 0.5752 - val_accuracy: 0.8042 - val_loss: 0.4675\n",
            "Epoch 3/50\n",
            "\u001b[1m30/30\u001b[0m \u001b[32m━━━━━━━━━━━━━━━━━━━━\u001b[0m\u001b[37m\u001b[0m \u001b[1m2s\u001b[0m 63ms/step - accuracy: 0.8109 - loss: 0.4709 - val_accuracy: 0.8375 - val_loss: 0.4010\n",
            "Epoch 4/50\n",
            "\u001b[1m30/30\u001b[0m \u001b[32m━━━━━━━━━━━━━━━━━━━━\u001b[0m\u001b[37m\u001b[0m \u001b[1m3s\u001b[0m 71ms/step - accuracy: 0.8458 - loss: 0.4330 - val_accuracy: 0.8750 - val_loss: 0.3297\n",
            "Epoch 5/50\n",
            "\u001b[1m30/30\u001b[0m \u001b[32m━━━━━━━━━━━━━━━━━━━━\u001b[0m\u001b[37m\u001b[0m \u001b[1m2s\u001b[0m 54ms/step - accuracy: 0.8719 - loss: 0.3401 - val_accuracy: 0.9000 - val_loss: 0.2746\n",
            "Epoch 6/50\n",
            "\u001b[1m30/30\u001b[0m \u001b[32m━━━━━━━━━━━━━━━━━━━━\u001b[0m\u001b[37m\u001b[0m \u001b[1m2s\u001b[0m 54ms/step - accuracy: 0.8988 - loss: 0.2787 - val_accuracy: 0.9125 - val_loss: 0.2599\n",
            "Epoch 7/50\n",
            "\u001b[1m30/30\u001b[0m \u001b[32m━━━━━━━━━━━━━━━━━━━━\u001b[0m\u001b[37m\u001b[0m \u001b[1m3s\u001b[0m 54ms/step - accuracy: 0.9121 - loss: 0.2452 - val_accuracy: 0.9125 - val_loss: 0.2396\n",
            "Epoch 8/50\n",
            "\u001b[1m30/30\u001b[0m \u001b[32m━━━━━━━━━━━━━━━━━━━━\u001b[0m\u001b[37m\u001b[0m \u001b[1m2s\u001b[0m 54ms/step - accuracy: 0.9246 - loss: 0.2129 - val_accuracy: 0.9083 - val_loss: 0.2472\n",
            "Epoch 9/50\n",
            "\u001b[1m30/30\u001b[0m \u001b[32m━━━━━━━━━━━━━━━━━━━━\u001b[0m\u001b[37m\u001b[0m \u001b[1m2s\u001b[0m 53ms/step - accuracy: 0.9122 - loss: 0.2435 - val_accuracy: 0.9083 - val_loss: 0.2423\n",
            "Epoch 10/50\n",
            "\u001b[1m30/30\u001b[0m \u001b[32m━━━━━━━━━━━━━━━━━━━━\u001b[0m\u001b[37m\u001b[0m \u001b[1m3s\u001b[0m 71ms/step - accuracy: 0.9229 - loss: 0.2047 - val_accuracy: 0.9333 - val_loss: 0.1860\n",
            "Epoch 11/50\n",
            "\u001b[1m30/30\u001b[0m \u001b[32m━━━━━━━━━━━━━━━━━━━━\u001b[0m\u001b[37m\u001b[0m \u001b[1m2s\u001b[0m 54ms/step - accuracy: 0.9374 - loss: 0.1674 - val_accuracy: 0.9167 - val_loss: 0.2155\n",
            "Epoch 12/50\n",
            "\u001b[1m30/30\u001b[0m \u001b[32m━━━━━━━━━━━━━━━━━━━━\u001b[0m\u001b[37m\u001b[0m \u001b[1m3s\u001b[0m 67ms/step - accuracy: 0.9496 - loss: 0.1411 - val_accuracy: 0.9292 - val_loss: 0.2045\n",
            "Epoch 13/50\n",
            "\u001b[1m30/30\u001b[0m \u001b[32m━━━━━━━━━━━━━━━━━━━━\u001b[0m\u001b[37m\u001b[0m \u001b[1m2s\u001b[0m 54ms/step - accuracy: 0.9376 - loss: 0.1829 - val_accuracy: 0.8792 - val_loss: 0.2859\n",
            "Epoch 14/50\n",
            "\u001b[1m30/30\u001b[0m \u001b[32m━━━━━━━━━━━━━━━━━━━━\u001b[0m\u001b[37m\u001b[0m \u001b[1m3s\u001b[0m 53ms/step - accuracy: 0.9436 - loss: 0.1545 - val_accuracy: 0.9167 - val_loss: 0.2262\n",
            "Epoch 15/50\n",
            "\u001b[1m30/30\u001b[0m \u001b[32m━━━━━━━━━━━━━━━━━━━━\u001b[0m\u001b[37m\u001b[0m \u001b[1m3s\u001b[0m 70ms/step - accuracy: 0.9570 - loss: 0.1208 - val_accuracy: 0.9333 - val_loss: 0.1659\n",
            "Epoch 16/50\n",
            "\u001b[1m30/30\u001b[0m \u001b[32m━━━━━━━━━━━━━━━━━━━━\u001b[0m\u001b[37m\u001b[0m \u001b[1m2s\u001b[0m 54ms/step - accuracy: 0.9613 - loss: 0.1333 - val_accuracy: 0.9292 - val_loss: 0.2074\n",
            "Epoch 17/50\n",
            "\u001b[1m30/30\u001b[0m \u001b[32m━━━━━━━━━━━━━━━━━━━━\u001b[0m\u001b[37m\u001b[0m \u001b[1m2s\u001b[0m 52ms/step - accuracy: 0.9606 - loss: 0.1232 - val_accuracy: 0.9292 - val_loss: 0.1999\n",
            "Epoch 18/50\n",
            "\u001b[1m30/30\u001b[0m \u001b[32m━━━━━━━━━━━━━━━━━━━━\u001b[0m\u001b[37m\u001b[0m \u001b[1m3s\u001b[0m 60ms/step - accuracy: 0.9655 - loss: 0.1025 - val_accuracy: 0.9208 - val_loss: 0.1881\n",
            "Epoch 19/50\n",
            "\u001b[1m30/30\u001b[0m \u001b[32m━━━━━━━━━━━━━━━━━━━━\u001b[0m\u001b[37m\u001b[0m \u001b[1m2s\u001b[0m 53ms/step - accuracy: 0.9742 - loss: 0.0788 - val_accuracy: 0.9250 - val_loss: 0.1824\n",
            "Epoch 20/50\n",
            "\u001b[1m30/30\u001b[0m \u001b[32m━━━━━━━━━━━━━━━━━━━━\u001b[0m\u001b[37m\u001b[0m \u001b[1m3s\u001b[0m 81ms/step - accuracy: 0.9638 - loss: 0.1046 - val_accuracy: 0.9375 - val_loss: 0.1768\n"
          ]
        }
      ]
    },
    {
      "cell_type": "code",
      "source": [
        "# 7. Final Training\n",
        "\n",
        "# 7.1 Prepare full training data\n",
        "X_full = train.drop(['id','y'], axis=1).values\n",
        "y_full = train['y'].values - 1\n",
        "\n",
        "# 7.2 — CNN\n",
        "# reshape & one-hot\n",
        "X_full_cnn = X_full.reshape(-1,32,32,3)\n",
        "y_full_cat = tf.keras.utils.to_categorical(y_full, 3)\n",
        "\n",
        "# retrain CNN for same number of epochs it saw before\n",
        "model.fit(X_full_cnn, y_full_cat,\n",
        "          epochs=len(hist.history['loss']),\n",
        "          batch_size=32)\n",
        "\n",
        "# predict on test\n",
        "test_X_cnn = test.drop('id',axis=1).values.reshape(-1,32,32,3)\n",
        "cnn_preds = model.predict(test_X_cnn).argmax(axis=1) + 1\n",
        "\n",
        "# save CNN submission\n",
        "pd.DataFrame({'id': test['id'], 'y': cnn_preds}) \\\n",
        "  .to_csv('cnn.csv', index=False)\n",
        "\n",
        "# 7.3 — Random Forest\n",
        "rf_full = RandomForestClassifier(n_estimators=200, random_state=42)\n",
        "rf_full.fit(X_full, y_full)\n",
        "rf_preds = rf_full.predict(test.drop('id',axis=1).values) + 1\n",
        "\n",
        "pd.DataFrame({'id': test['id'], 'y': rf_preds}) \\\n",
        "  .to_csv('rf.csv', index=False)\n",
        "\n",
        "# 7.4 — XGBoost\n",
        "xgb_full = XGBClassifier(\n",
        "    n_estimators=200,\n",
        "    use_label_encoder=False,\n",
        "    eval_metric='mlogloss',\n",
        "    random_state=42\n",
        ")\n",
        "xgb_full.fit(X_full, y_full)\n",
        "xgb_preds = xgb_full.predict(test.drop('id',axis=1).values) + 1\n",
        "\n",
        "pd.DataFrame({'id': test['id'], 'y': xgb_preds}) \\\n",
        "  .to_csv('xgb.csv', index=False)\n",
        "\n"
      ],
      "metadata": {
        "colab": {
          "base_uri": "https://localhost:8080/"
        },
        "id": "Gf84ETdSjLMs",
        "outputId": "0ca2abe9-b4a6-49c6-dba7-a5c4ff7d2855"
      },
      "execution_count": null,
      "outputs": [
        {
          "output_type": "stream",
          "name": "stdout",
          "text": [
            "Epoch 1/20\n",
            "\u001b[1m38/38\u001b[0m \u001b[32m━━━━━━━━━━━━━━━━━━━━\u001b[0m\u001b[37m\u001b[0m \u001b[1m2s\u001b[0m 54ms/step - accuracy: 0.9986 - loss: 0.0074\n",
            "Epoch 2/20\n",
            "\u001b[1m38/38\u001b[0m \u001b[32m━━━━━━━━━━━━━━━━━━━━\u001b[0m\u001b[37m\u001b[0m \u001b[1m2s\u001b[0m 49ms/step - accuracy: 0.9998 - loss: 0.0044\n",
            "Epoch 3/20\n",
            "\u001b[1m38/38\u001b[0m \u001b[32m━━━━━━━━━━━━━━━━━━━━\u001b[0m\u001b[37m\u001b[0m \u001b[1m3s\u001b[0m 50ms/step - accuracy: 0.9974 - loss: 0.0066\n",
            "Epoch 4/20\n",
            "\u001b[1m38/38\u001b[0m \u001b[32m━━━━━━━━━━━━━━━━━━━━\u001b[0m\u001b[37m\u001b[0m \u001b[1m2s\u001b[0m 48ms/step - accuracy: 0.9965 - loss: 0.0065\n",
            "Epoch 5/20\n",
            "\u001b[1m38/38\u001b[0m \u001b[32m━━━━━━━━━━━━━━━━━━━━\u001b[0m\u001b[37m\u001b[0m \u001b[1m3s\u001b[0m 71ms/step - accuracy: 1.0000 - loss: 0.0038\n",
            "Epoch 6/20\n",
            "\u001b[1m38/38\u001b[0m \u001b[32m━━━━━━━━━━━━━━━━━━━━\u001b[0m\u001b[37m\u001b[0m \u001b[1m4s\u001b[0m 48ms/step - accuracy: 0.9987 - loss: 0.0041\n",
            "Epoch 7/20\n",
            "\u001b[1m38/38\u001b[0m \u001b[32m━━━━━━━━━━━━━━━━━━━━\u001b[0m\u001b[37m\u001b[0m \u001b[1m3s\u001b[0m 51ms/step - accuracy: 0.9985 - loss: 0.0068\n",
            "Epoch 8/20\n",
            "\u001b[1m38/38\u001b[0m \u001b[32m━━━━━━━━━━━━━━━━━━━━\u001b[0m\u001b[37m\u001b[0m \u001b[1m2s\u001b[0m 48ms/step - accuracy: 0.9891 - loss: 0.0349\n",
            "Epoch 9/20\n",
            "\u001b[1m38/38\u001b[0m \u001b[32m━━━━━━━━━━━━━━━━━━━━\u001b[0m\u001b[37m\u001b[0m \u001b[1m2s\u001b[0m 60ms/step - accuracy: 0.9951 - loss: 0.0191\n",
            "Epoch 10/20\n",
            "\u001b[1m38/38\u001b[0m \u001b[32m━━━━━━━━━━━━━━━━━━━━\u001b[0m\u001b[37m\u001b[0m \u001b[1m3s\u001b[0m 62ms/step - accuracy: 0.9944 - loss: 0.0176\n",
            "Epoch 11/20\n",
            "\u001b[1m38/38\u001b[0m \u001b[32m━━━━━━━━━━━━━━━━━━━━\u001b[0m\u001b[37m\u001b[0m \u001b[1m2s\u001b[0m 48ms/step - accuracy: 0.9980 - loss: 0.0084\n",
            "Epoch 12/20\n",
            "\u001b[1m38/38\u001b[0m \u001b[32m━━━━━━━━━━━━━━━━━━━━\u001b[0m\u001b[37m\u001b[0m \u001b[1m3s\u001b[0m 49ms/step - accuracy: 0.9982 - loss: 0.0087\n",
            "Epoch 13/20\n",
            "\u001b[1m38/38\u001b[0m \u001b[32m━━━━━━━━━━━━━━━━━━━━\u001b[0m\u001b[37m\u001b[0m \u001b[1m2s\u001b[0m 47ms/step - accuracy: 0.9970 - loss: 0.0058\n",
            "Epoch 14/20\n",
            "\u001b[1m38/38\u001b[0m \u001b[32m━━━━━━━━━━━━━━━━━━━━\u001b[0m\u001b[37m\u001b[0m \u001b[1m3s\u001b[0m 48ms/step - accuracy: 0.9997 - loss: 0.0033\n",
            "Epoch 15/20\n",
            "\u001b[1m38/38\u001b[0m \u001b[32m━━━━━━━━━━━━━━━━━━━━\u001b[0m\u001b[37m\u001b[0m \u001b[1m3s\u001b[0m 81ms/step - accuracy: 0.9988 - loss: 0.0028\n",
            "Epoch 16/20\n",
            "\u001b[1m38/38\u001b[0m \u001b[32m━━━━━━━━━━━━━━━━━━━━\u001b[0m\u001b[37m\u001b[0m \u001b[1m4s\u001b[0m 48ms/step - accuracy: 0.9982 - loss: 0.0043\n",
            "Epoch 17/20\n",
            "\u001b[1m38/38\u001b[0m \u001b[32m━━━━━━━━━━━━━━━━━━━━\u001b[0m\u001b[37m\u001b[0m \u001b[1m3s\u001b[0m 48ms/step - accuracy: 0.9985 - loss: 0.0063\n",
            "Epoch 18/20\n",
            "\u001b[1m38/38\u001b[0m \u001b[32m━━━━━━━━━━━━━━━━━━━━\u001b[0m\u001b[37m\u001b[0m \u001b[1m2s\u001b[0m 48ms/step - accuracy: 0.9878 - loss: 0.0316\n",
            "Epoch 19/20\n",
            "\u001b[1m38/38\u001b[0m \u001b[32m━━━━━━━━━━━━━━━━━━━━\u001b[0m\u001b[37m\u001b[0m \u001b[1m4s\u001b[0m 99ms/step - accuracy: 0.9971 - loss: 0.0096\n",
            "Epoch 20/20\n",
            "\u001b[1m38/38\u001b[0m \u001b[32m━━━━━━━━━━━━━━━━━━━━\u001b[0m\u001b[37m\u001b[0m \u001b[1m2s\u001b[0m 60ms/step - accuracy: 0.9963 - loss: 0.0102\n",
            "\u001b[1m38/38\u001b[0m \u001b[32m━━━━━━━━━━━━━━━━━━━━\u001b[0m\u001b[37m\u001b[0m \u001b[1m1s\u001b[0m 14ms/step\n"
          ]
        },
        {
          "output_type": "stream",
          "name": "stderr",
          "text": [
            "/usr/local/lib/python3.11/dist-packages/xgboost/core.py:158: UserWarning: [05:58:15] WARNING: /workspace/src/learner.cc:740: \n",
            "Parameters: { \"use_label_encoder\" } are not used.\n",
            "\n",
            "  warnings.warn(smsg, UserWarning)\n"
          ]
        }
      ]
    },
    {
      "cell_type": "code",
      "source": [
        "import pandas as pd\n",
        "import numpy as np\n",
        "\n",
        "from sklearn.model_selection import train_test_split, GridSearchCV\n",
        "from sklearn.ensemble import RandomForestClassifier\n",
        "from xgboost import XGBClassifier\n",
        "from sklearn.metrics import accuracy_score\n",
        "\n",
        "# 1. Load data\n",
        "train_url = 'https://raw.githubusercontent.com/Reybolouri/Contest-2-Machine-Learning/main/data/train.csv'\n",
        "test_url  = 'https://raw.githubusercontent.com/Reybolouri/Contest-2-Machine-Learning/main/data/test.csv'\n",
        "\n",
        "train_df = pd.read_csv(train_url)\n",
        "test_df  = pd.read_csv(test_url)\n",
        "\n",
        "# 2. Features and (zero-based) labels\n",
        "X       = train_df.drop(['id','y'], axis=1).values\n",
        "y       = train_df['y'].values.astype(int) - 1    # <-- shift labels to {0,1,2}\n",
        "X_test  = test_df.drop('id', axis=1).values\n",
        "\n",
        "# 3. Train/validation split\n",
        "X_train, X_val, y_train, y_val = train_test_split(\n",
        "    X, y,\n",
        "    test_size=0.20,\n",
        "    stratify=y,\n",
        "    random_state=42\n",
        ")\n",
        "\n",
        "# 4. Random Forest baseline\n",
        "rf = RandomForestClassifier(\n",
        "    n_estimators=200,\n",
        "    random_state=42,\n",
        "    n_jobs=-1\n",
        ")\n",
        "rf.fit(X_train, y_train)\n",
        "rf_val_preds = rf.predict(X_val)\n",
        "print(\"RF Validation Accuracy:\", accuracy_score(y_val, rf_val_preds))\n",
        "\n",
        "# 5. XGBoost with GridSearchCV\n",
        "xgb = XGBClassifier(\n",
        "    use_label_encoder=False,\n",
        "    eval_metric='mlogloss',\n",
        "    random_state=42\n",
        ")\n",
        "param_grid = {\n",
        "    'n_estimators': [100, 200],\n",
        "    'max_depth':    [3, 5]\n",
        "}\n",
        "grid = GridSearchCV(\n",
        "    xgb,\n",
        "    param_grid,\n",
        "    cv=3,\n",
        "    scoring='accuracy',\n",
        "    n_jobs=-1,\n",
        "    verbose=1,\n",
        "    error_score='raise'    # will now raise if anything still goes wrong\n",
        ")\n",
        "grid.fit(X_train, y_train)\n",
        "\n",
        "print(\"XGB Best Params:\", grid.best_params_)\n",
        "print(\"XGB CV Accuracy:\", grid.best_score_)\n",
        "\n",
        "# 6. Retrain best XGB on all data\n",
        "best_non_nn = grid.best_estimator_\n",
        "best_non_nn.fit(X, y)\n",
        "\n",
        "# 7. Predict on test set and shift labels back to {1,2,3}\n",
        "test_preds_zero_based = best_non_nn.predict(X_test)\n",
        "test_preds = test_preds_zero_based + 1\n",
        "\n",
        "# 8. Save submission\n",
        "submission = pd.DataFrame({\n",
        "    'id': test_df['id'],\n",
        "    'y':  test_preds\n",
        "})\n",
        "submission.to_csv('submission_non_nn.csv', index=False)\n",
        "print(\"Saved → submission_non_nn.csv\")\n"
      ],
      "metadata": {
        "colab": {
          "base_uri": "https://localhost:8080/"
        },
        "id": "2Ou1t57swFYo",
        "outputId": "fabd0c2b-0654-464a-df7e-961168b781a8"
      },
      "execution_count": null,
      "outputs": [
        {
          "output_type": "stream",
          "name": "stdout",
          "text": [
            "RF Validation Accuracy: 0.8041666666666667\n",
            "Fitting 3 folds for each of 4 candidates, totalling 12 fits\n"
          ]
        },
        {
          "output_type": "stream",
          "name": "stderr",
          "text": [
            "/usr/local/lib/python3.11/dist-packages/xgboost/core.py:158: UserWarning: [06:12:15] WARNING: /workspace/src/learner.cc:740: \n",
            "Parameters: { \"use_label_encoder\" } are not used.\n",
            "\n",
            "  warnings.warn(smsg, UserWarning)\n"
          ]
        },
        {
          "output_type": "stream",
          "name": "stdout",
          "text": [
            "XGB Best Params: {'max_depth': 3, 'n_estimators': 200}\n",
            "XGB CV Accuracy: 0.85\n"
          ]
        },
        {
          "output_type": "stream",
          "name": "stderr",
          "text": [
            "/usr/local/lib/python3.11/dist-packages/xgboost/core.py:158: UserWarning: [06:13:08] WARNING: /workspace/src/learner.cc:740: \n",
            "Parameters: { \"use_label_encoder\" } are not used.\n",
            "\n",
            "  warnings.warn(smsg, UserWarning)\n"
          ]
        },
        {
          "output_type": "stream",
          "name": "stdout",
          "text": [
            "Saved → submission_non_nn.csv\n"
          ]
        }
      ]
    },
    {
      "cell_type": "code",
      "source": [
        "import pandas as pd\n",
        "import numpy as np\n",
        "import torch\n",
        "import torch.nn as nn\n",
        "import torch.optim as optim\n",
        "from torch.utils.data import Dataset, DataLoader, random_split\n",
        "\n",
        "# 1. Load CSVs\n",
        "train_url = 'https://raw.githubusercontent.com/Reybolouri/Contest-2-Machine-Learning/main/data/train.csv'\n",
        "test_url  = 'https://raw.githubusercontent.com/Reybolouri/Contest-2-Machine-Learning/main/data/test.csv'\n",
        "train_df  = pd.read_csv(train_url)\n",
        "test_df   = pd.read_csv(test_url)\n",
        "\n",
        "# 2. Extract numpy arrays\n",
        "X = train_df.drop(['id','y'], axis=1).values.astype(np.float32)\n",
        "y = (train_df['y'].values - 1).astype(np.int64)   # zero-based\n",
        "\n",
        "X_test = test_df.drop('id', axis=1).values.astype(np.float32)\n",
        "\n",
        "# 3. Dataset class\n",
        "class ImageCSV(Dataset):\n",
        "    def __init__(self, features, labels=None):\n",
        "        self.X = features\n",
        "        self.y = labels\n",
        "    def __len__(self): return len(self.X)\n",
        "    def __getitem__(self, idx):\n",
        "        img = self.X[idx].reshape(3, 32, 32)\n",
        "        if self.y is None:\n",
        "            return img\n",
        "        return img, self.y[idx]\n",
        "\n",
        "full_ds  = ImageCSV(X, y)\n",
        "test_ds  = ImageCSV(X_test, None)\n",
        "\n",
        "# 4. Train/val split and loaders\n",
        "train_size = int(0.8 * len(full_ds))\n",
        "val_size   = len(full_ds) - train_size\n",
        "train_ds, val_ds = random_split(full_ds, [train_size, val_size],\n",
        "                                generator=torch.Generator().manual_seed(42))\n",
        "\n",
        "train_loader = DataLoader(train_ds, batch_size=64, shuffle=True,  num_workers=2)\n",
        "val_loader   = DataLoader(val_ds,   batch_size=64, shuffle=False, num_workers=2)\n",
        "test_loader  = DataLoader(test_ds,  batch_size=64, shuffle=False, num_workers=2)\n",
        "\n",
        "# 5. Your model (reuse TorchVisionCNN from above)\n",
        "class TorchVisionCNN(nn.Module):\n",
        "    def __init__(self, num_classes=3):\n",
        "        super().__init__()\n",
        "        self.features = nn.Sequential(\n",
        "            nn.Conv2d(3,  32, 3, padding=1), nn.ReLU(inplace=True), nn.MaxPool2d(2),\n",
        "            nn.Conv2d(32, 64, 3, padding=1), nn.ReLU(inplace=True), nn.MaxPool2d(2),\n",
        "            nn.Conv2d(64,128, 3, padding=1), nn.ReLU(inplace=True), nn.MaxPool2d(2),\n",
        "        )\n",
        "        self.classifier = nn.Sequential(\n",
        "            nn.Flatten(),\n",
        "            nn.Linear(128*4*4, 256), nn.ReLU(inplace=True),\n",
        "            nn.Dropout(0.5),\n",
        "            nn.Linear(256, num_classes)\n",
        "        )\n",
        "    def forward(self, x):\n",
        "        return self.classifier(self.features(x))\n",
        "\n",
        "# 6. Setup\n",
        "device   = torch.device('cuda' if torch.cuda.is_available() else 'cpu')\n",
        "model    = TorchVisionCNN().to(device)\n",
        "criterion= nn.CrossEntropyLoss()\n",
        "optimizer= optim.Adam(model.parameters(), lr=1e-3)\n",
        "epochs   = 10\n",
        "\n",
        "# 7. Training loop\n",
        "for epoch in range(1, epochs+1):\n",
        "    # Train\n",
        "    model.train()\n",
        "    train_loss, train_corr, train_total = 0.0, 0, 0\n",
        "    for imgs, labels in train_loader:\n",
        "        imgs, labels = imgs.to(device), labels.to(device)\n",
        "        optimizer.zero_grad()\n",
        "        outputs = model(imgs)\n",
        "        loss    = criterion(outputs, labels)\n",
        "        loss.backward()\n",
        "        optimizer.step()\n",
        "\n",
        "        preds = outputs.argmax(dim=1)\n",
        "        train_loss  += loss.item() * imgs.size(0)\n",
        "        train_corr  += (preds == labels).sum().item()\n",
        "        train_total += imgs.size(0)\n",
        "\n",
        "    # Validate\n",
        "    model.eval()\n",
        "    val_corr, val_total = 0, 0\n",
        "    with torch.no_grad():\n",
        "        for imgs, labels in val_loader:\n",
        "            imgs, labels = imgs.to(device), labels.to(device)\n",
        "            out  = model(imgs)\n",
        "            preds= out.argmax(dim=1)\n",
        "            val_corr  += (preds == labels).sum().item()\n",
        "            val_total += imgs.size(0)\n",
        "\n",
        "    print(f\"Epoch {epoch:2d} — \"\n",
        "          f\"Train Loss: {train_loss/train_total:.4f}, \"\n",
        "          f\"Train Acc: {train_corr/train_total:.4f}, \"\n",
        "          f\"Val Acc: {val_corr/val_total:.4f}\")\n",
        "\n",
        "# 8. (Optional) Quick test-set inference\n",
        "model.eval()\n",
        "all_preds = []\n",
        "with torch.no_grad():\n",
        "    for imgs in test_loader:\n",
        "        imgs = imgs.to(device)\n",
        "        out  = model(imgs)\n",
        "        all_preds.extend(out.argmax(dim=1).cpu().numpy() + 1)\n",
        "\n",
        "# all_preds now holds your 1/2/3 predictions for test.csv\n",
        "submission = pd.DataFrame({\n",
        "    'id': test_df['id'],\n",
        "    'y':  all_preds\n",
        "})\n",
        "submission.to_csv('cnn.csv', index=False)\n",
        "print(\"Saved → cnn.csv\")"
      ],
      "metadata": {
        "id": "ocVh3OegmJ3B",
        "outputId": "9bedfa8c-2bd1-44cc-96b1-cd649216ecc0",
        "colab": {
          "base_uri": "https://localhost:8080/"
        }
      },
      "execution_count": 2,
      "outputs": [
        {
          "output_type": "stream",
          "name": "stdout",
          "text": [
            "Epoch  1 — Train Loss: 0.8080, Train Acc: 0.6188, Val Acc: 0.7917\n",
            "Epoch  2 — Train Loss: 0.4550, Train Acc: 0.8063, Val Acc: 0.8292\n",
            "Epoch  3 — Train Loss: 0.3732, Train Acc: 0.8417, Val Acc: 0.8750\n",
            "Epoch  4 — Train Loss: 0.3103, Train Acc: 0.8667, Val Acc: 0.8000\n",
            "Epoch  5 — Train Loss: 0.3443, Train Acc: 0.8594, Val Acc: 0.8542\n",
            "Epoch  6 — Train Loss: 0.3423, Train Acc: 0.8708, Val Acc: 0.9250\n",
            "Epoch  7 — Train Loss: 0.2556, Train Acc: 0.9000, Val Acc: 0.9458\n",
            "Epoch  8 — Train Loss: 0.2236, Train Acc: 0.9208, Val Acc: 0.9458\n",
            "Epoch  9 — Train Loss: 0.1757, Train Acc: 0.9396, Val Acc: 0.9500\n",
            "Epoch 10 — Train Loss: 0.1814, Train Acc: 0.9302, Val Acc: 0.9500\n",
            "Saved → cnn.csv\n"
          ]
        }
      ]
    }
  ]
}